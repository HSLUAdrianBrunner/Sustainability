{
 "cells": [
  {
   "cell_type": "code",
   "id": "initial_id",
   "metadata": {
    "collapsed": true,
    "ExecuteTime": {
     "end_time": "2025-09-03T11:44:06.133125Z",
     "start_time": "2025-09-03T11:44:06.122747Z"
    }
   },
   "source": [
    "# Convert swiss coordinates to lat long \n",
    "from pyproj import Transformer \n",
    "transformer = Transformer.from_crs(\"EPSG:21781\", \"EPSG:4326\", always_xy=True)\n",
    "lon, lat = transformer.transform(628875 , 240185)\n",
    "print(lat, lon) # copypaste in google maps\n",
    "# Switzerland bounds ≈ lat 45–48, lon 5–11"
   ],
   "outputs": [
    {
     "name": "stdout",
     "output_type": "stream",
     "text": [
      "67.73186047342058 21.65933461009036\n"
     ]
    }
   ],
   "execution_count": 19
  },
  {
   "metadata": {
    "ExecuteTime": {
     "end_time": "2025-09-03T11:57:27.087225Z",
     "start_time": "2025-09-03T11:57:27.081830Z"
    }
   },
   "cell_type": "code",
   "source": "##################################",
   "id": "e30dde763c30af1d",
   "outputs": [],
   "execution_count": 20
  },
  {
   "metadata": {
    "ExecuteTime": {
     "end_time": "2025-09-03T12:17:04.581059Z",
     "start_time": "2025-09-03T12:17:03.316171Z"
    }
   },
   "cell_type": "code",
   "source": [
    "import pandas as pd\n",
    "import matplotlib.pyplot as plt"
   ],
   "id": "20d551be7484a0ba",
   "outputs": [],
   "execution_count": 42
  },
  {
   "metadata": {},
   "cell_type": "markdown",
   "source": "# Härkingen-A1 (Dec 2024)",
   "id": "4c917fc551e050b9"
  },
  {
   "metadata": {},
   "cell_type": "markdown",
   "source": "## Daily",
   "id": "9d180d6d0615a9bf"
  },
  {
   "metadata": {
    "ExecuteTime": {
     "end_time": "2025-09-03T12:55:39.853968Z",
     "start_time": "2025-09-03T12:55:39.842599Z"
    }
   },
   "cell_type": "code",
   "source": [
    "nox_daily = pd.read_csv(\"Data/NOX_daily.csv\", encoding=\"latin1\", header=4, sep=\";\")\n",
    "pm25_daily = pd.read_csv(\"Data/PM2.5_daily.csv\", encoding=\"latin1\", header=4, sep=\";\")\n",
    "pm10_daily = pd.read_csv(\"Data/PM10_daily.csv\", encoding=\"latin1\", header=4, sep=\";\")\n"
   ],
   "id": "76e0b25893cb3c08",
   "outputs": [],
   "execution_count": 51
  },
  {
   "metadata": {
    "ExecuteTime": {
     "end_time": "2025-09-03T12:17:40.287352Z",
     "start_time": "2025-09-03T12:17:40.279119Z"
    }
   },
   "cell_type": "code",
   "source": "nox_daily.head()",
   "id": "ec210e9dee4e9db",
   "outputs": [
    {
     "data": {
      "text/plain": [
       "    Date/time  Härkingen-A1\n",
       "0  01.12.2024          57.7\n",
       "1  02.12.2024         104.6\n",
       "2  03.12.2024          48.2\n",
       "3  04.12.2024          41.5\n",
       "4  05.12.2024          73.4"
      ],
      "text/html": [
       "<div>\n",
       "<style scoped>\n",
       "    .dataframe tbody tr th:only-of-type {\n",
       "        vertical-align: middle;\n",
       "    }\n",
       "\n",
       "    .dataframe tbody tr th {\n",
       "        vertical-align: top;\n",
       "    }\n",
       "\n",
       "    .dataframe thead th {\n",
       "        text-align: right;\n",
       "    }\n",
       "</style>\n",
       "<table border=\"1\" class=\"dataframe\">\n",
       "  <thead>\n",
       "    <tr style=\"text-align: right;\">\n",
       "      <th></th>\n",
       "      <th>Date/time</th>\n",
       "      <th>Härkingen-A1</th>\n",
       "    </tr>\n",
       "  </thead>\n",
       "  <tbody>\n",
       "    <tr>\n",
       "      <th>0</th>\n",
       "      <td>01.12.2024</td>\n",
       "      <td>57.7</td>\n",
       "    </tr>\n",
       "    <tr>\n",
       "      <th>1</th>\n",
       "      <td>02.12.2024</td>\n",
       "      <td>104.6</td>\n",
       "    </tr>\n",
       "    <tr>\n",
       "      <th>2</th>\n",
       "      <td>03.12.2024</td>\n",
       "      <td>48.2</td>\n",
       "    </tr>\n",
       "    <tr>\n",
       "      <th>3</th>\n",
       "      <td>04.12.2024</td>\n",
       "      <td>41.5</td>\n",
       "    </tr>\n",
       "    <tr>\n",
       "      <th>4</th>\n",
       "      <td>05.12.2024</td>\n",
       "      <td>73.4</td>\n",
       "    </tr>\n",
       "  </tbody>\n",
       "</table>\n",
       "</div>"
      ]
     },
     "execution_count": 45,
     "metadata": {},
     "output_type": "execute_result"
    }
   ],
   "execution_count": 45
  },
  {
   "metadata": {
    "ExecuteTime": {
     "end_time": "2025-09-03T12:55:57.212026Z",
     "start_time": "2025-09-03T12:55:57.202094Z"
    }
   },
   "cell_type": "code",
   "source": "pm25_daily.head()",
   "id": "90a3e577e4a7d923",
   "outputs": [
    {
     "data": {
      "text/plain": [
       "    Date/time  Härkingen-A1\n",
       "0  01.12.2024          19.5\n",
       "1  02.12.2024          22.9\n",
       "2  03.12.2024           5.7\n",
       "3  04.12.2024           6.8\n",
       "4  05.12.2024          13.4"
      ],
      "text/html": [
       "<div>\n",
       "<style scoped>\n",
       "    .dataframe tbody tr th:only-of-type {\n",
       "        vertical-align: middle;\n",
       "    }\n",
       "\n",
       "    .dataframe tbody tr th {\n",
       "        vertical-align: top;\n",
       "    }\n",
       "\n",
       "    .dataframe thead th {\n",
       "        text-align: right;\n",
       "    }\n",
       "</style>\n",
       "<table border=\"1\" class=\"dataframe\">\n",
       "  <thead>\n",
       "    <tr style=\"text-align: right;\">\n",
       "      <th></th>\n",
       "      <th>Date/time</th>\n",
       "      <th>Härkingen-A1</th>\n",
       "    </tr>\n",
       "  </thead>\n",
       "  <tbody>\n",
       "    <tr>\n",
       "      <th>0</th>\n",
       "      <td>01.12.2024</td>\n",
       "      <td>19.5</td>\n",
       "    </tr>\n",
       "    <tr>\n",
       "      <th>1</th>\n",
       "      <td>02.12.2024</td>\n",
       "      <td>22.9</td>\n",
       "    </tr>\n",
       "    <tr>\n",
       "      <th>2</th>\n",
       "      <td>03.12.2024</td>\n",
       "      <td>5.7</td>\n",
       "    </tr>\n",
       "    <tr>\n",
       "      <th>3</th>\n",
       "      <td>04.12.2024</td>\n",
       "      <td>6.8</td>\n",
       "    </tr>\n",
       "    <tr>\n",
       "      <th>4</th>\n",
       "      <td>05.12.2024</td>\n",
       "      <td>13.4</td>\n",
       "    </tr>\n",
       "  </tbody>\n",
       "</table>\n",
       "</div>"
      ]
     },
     "execution_count": 52,
     "metadata": {},
     "output_type": "execute_result"
    }
   ],
   "execution_count": 52
  },
  {
   "metadata": {
    "ExecuteTime": {
     "end_time": "2025-09-03T12:56:11.784335Z",
     "start_time": "2025-09-03T12:56:11.774657Z"
    }
   },
   "cell_type": "code",
   "source": "pm10_daily.head()",
   "id": "b4d962381ec5ba78",
   "outputs": [
    {
     "data": {
      "text/plain": [
       "    Date/time  Härkingen-A1\n",
       "0  01.12.2024          15.6\n",
       "1  02.12.2024          22.7\n",
       "2  03.12.2024           5.6\n",
       "3  04.12.2024           6.1\n",
       "4  05.12.2024          12.4"
      ],
      "text/html": [
       "<div>\n",
       "<style scoped>\n",
       "    .dataframe tbody tr th:only-of-type {\n",
       "        vertical-align: middle;\n",
       "    }\n",
       "\n",
       "    .dataframe tbody tr th {\n",
       "        vertical-align: top;\n",
       "    }\n",
       "\n",
       "    .dataframe thead th {\n",
       "        text-align: right;\n",
       "    }\n",
       "</style>\n",
       "<table border=\"1\" class=\"dataframe\">\n",
       "  <thead>\n",
       "    <tr style=\"text-align: right;\">\n",
       "      <th></th>\n",
       "      <th>Date/time</th>\n",
       "      <th>Härkingen-A1</th>\n",
       "    </tr>\n",
       "  </thead>\n",
       "  <tbody>\n",
       "    <tr>\n",
       "      <th>0</th>\n",
       "      <td>01.12.2024</td>\n",
       "      <td>15.6</td>\n",
       "    </tr>\n",
       "    <tr>\n",
       "      <th>1</th>\n",
       "      <td>02.12.2024</td>\n",
       "      <td>22.7</td>\n",
       "    </tr>\n",
       "    <tr>\n",
       "      <th>2</th>\n",
       "      <td>03.12.2024</td>\n",
       "      <td>5.6</td>\n",
       "    </tr>\n",
       "    <tr>\n",
       "      <th>3</th>\n",
       "      <td>04.12.2024</td>\n",
       "      <td>6.1</td>\n",
       "    </tr>\n",
       "    <tr>\n",
       "      <th>4</th>\n",
       "      <td>05.12.2024</td>\n",
       "      <td>12.4</td>\n",
       "    </tr>\n",
       "  </tbody>\n",
       "</table>\n",
       "</div>"
      ]
     },
     "execution_count": 53,
     "metadata": {},
     "output_type": "execute_result"
    }
   ],
   "execution_count": 53
  },
  {
   "metadata": {
    "ExecuteTime": {
     "end_time": "2025-09-03T13:06:12.199426Z",
     "start_time": "2025-09-03T13:06:12.090214Z"
    }
   },
   "cell_type": "code",
   "source": [
    "plt.plot(nox_daily[\"Härkingen-A1\"], label=\"NOx\")\n",
    "plt.plot(pm25_daily[\"Härkingen-A1\"], label=\"PM2.5\")\n",
    "plt.plot(pm10_daily[\"Härkingen-A1\"], label=\"PM10\")\n",
    "\n",
    "plt.title(\"Härkingen-A1 (Dec 2024 - daily)\")\n",
    "plt.legend()\n",
    "plt.show()"
   ],
   "id": "bad0e106d64ec258",
   "outputs": [
    {
     "data": {
      "text/plain": [
       "<Figure size 640x480 with 1 Axes>"
      ],
      "image/png": "[encoded data removed]"
     },
     "metadata": {},
     "output_type": "display_data"
    }
   ],
   "execution_count": 62
  },
  {
   "metadata": {},
   "cell_type": "code",
   "outputs": [],
   "execution_count": null,
   "source": "",
   "id": "680c1f734395c67e"
  },
  {
   "metadata": {},
   "cell_type": "markdown",
   "source": "## Hourly",
   "id": "b5c10cbb7d4d9a4d"
  },
  {
   "metadata": {
    "ExecuteTime": {
     "end_time": "2025-09-03T13:05:12.045141Z",
     "start_time": "2025-09-03T13:05:12.032453Z"
    }
   },
   "cell_type": "code",
   "source": [
    "nox_hourly = pd.read_csv(\"Data/NOX_hourly.csv\", encoding=\"latin1\", header=5, sep=\";\")\n",
    "pm25_hourly = pd.read_csv(\"Data/PM2.5_hourly.csv\", encoding=\"latin1\", header=5, sep=\";\")\n",
    "pm10_hourly = pd.read_csv(\"Data/PM10_hourly.csv\", encoding=\"latin1\", header=5, sep=\";\")"
   ],
   "id": "9c1babaa7633f0dc",
   "outputs": [],
   "execution_count": 58
  },
  {
   "metadata": {
    "ExecuteTime": {
     "end_time": "2025-09-03T13:05:19.429634Z",
     "start_time": "2025-09-03T13:05:19.419217Z"
    }
   },
   "cell_type": "code",
   "source": "nox_hourly.head()",
   "id": "2ac7e91e2fe504c3",
   "outputs": [
    {
     "data": {
      "text/plain": [
       "          Date/time  Härkingen-A1\n",
       "0  01.12.2024 01:00          26.4\n",
       "1  01.12.2024 02:00          26.1\n",
       "2  01.12.2024 03:00          23.7\n",
       "3  01.12.2024 04:00          19.8\n",
       "4  01.12.2024 05:00          19.8"
      ],
      "text/html": [
       "<div>\n",
       "<style scoped>\n",
       "    .dataframe tbody tr th:only-of-type {\n",
       "        vertical-align: middle;\n",
       "    }\n",
       "\n",
       "    .dataframe tbody tr th {\n",
       "        vertical-align: top;\n",
       "    }\n",
       "\n",
       "    .dataframe thead th {\n",
       "        text-align: right;\n",
       "    }\n",
       "</style>\n",
       "<table border=\"1\" class=\"dataframe\">\n",
       "  <thead>\n",
       "    <tr style=\"text-align: right;\">\n",
       "      <th></th>\n",
       "      <th>Date/time</th>\n",
       "      <th>Härkingen-A1</th>\n",
       "    </tr>\n",
       "  </thead>\n",
       "  <tbody>\n",
       "    <tr>\n",
       "      <th>0</th>\n",
       "      <td>01.12.2024 01:00</td>\n",
       "      <td>26.4</td>\n",
       "    </tr>\n",
       "    <tr>\n",
       "      <th>1</th>\n",
       "      <td>01.12.2024 02:00</td>\n",
       "      <td>26.1</td>\n",
       "    </tr>\n",
       "    <tr>\n",
       "      <th>2</th>\n",
       "      <td>01.12.2024 03:00</td>\n",
       "      <td>23.7</td>\n",
       "    </tr>\n",
       "    <tr>\n",
       "      <th>3</th>\n",
       "      <td>01.12.2024 04:00</td>\n",
       "      <td>19.8</td>\n",
       "    </tr>\n",
       "    <tr>\n",
       "      <th>4</th>\n",
       "      <td>01.12.2024 05:00</td>\n",
       "      <td>19.8</td>\n",
       "    </tr>\n",
       "  </tbody>\n",
       "</table>\n",
       "</div>"
      ]
     },
     "execution_count": 59,
     "metadata": {},
     "output_type": "execute_result"
    }
   ],
   "execution_count": 59
  },
  {
   "metadata": {
    "ExecuteTime": {
     "end_time": "2025-09-03T13:05:31.798039Z",
     "start_time": "2025-09-03T13:05:31.788452Z"
    }
   },
   "cell_type": "code",
   "source": "pm25_hourly.head()",
   "id": "7d1e155d56b9557b",
   "outputs": [
    {
     "data": {
      "text/plain": [
       "          Date/time  Härkingen-A1\n",
       "0  01.12.2024 01:00          20.1\n",
       "1  01.12.2024 02:00          21.5\n",
       "2  01.12.2024 03:00          21.1\n",
       "3  01.12.2024 04:00          20.3\n",
       "4  01.12.2024 05:00          20.0"
      ],
      "text/html": [
       "<div>\n",
       "<style scoped>\n",
       "    .dataframe tbody tr th:only-of-type {\n",
       "        vertical-align: middle;\n",
       "    }\n",
       "\n",
       "    .dataframe tbody tr th {\n",
       "        vertical-align: top;\n",
       "    }\n",
       "\n",
       "    .dataframe thead th {\n",
       "        text-align: right;\n",
       "    }\n",
       "</style>\n",
       "<table border=\"1\" class=\"dataframe\">\n",
       "  <thead>\n",
       "    <tr style=\"text-align: right;\">\n",
       "      <th></th>\n",
       "      <th>Date/time</th>\n",
       "      <th>Härkingen-A1</th>\n",
       "    </tr>\n",
       "  </thead>\n",
       "  <tbody>\n",
       "    <tr>\n",
       "      <th>0</th>\n",
       "      <td>01.12.2024 01:00</td>\n",
       "      <td>20.1</td>\n",
       "    </tr>\n",
       "    <tr>\n",
       "      <th>1</th>\n",
       "      <td>01.12.2024 02:00</td>\n",
       "      <td>21.5</td>\n",
       "    </tr>\n",
       "    <tr>\n",
       "      <th>2</th>\n",
       "      <td>01.12.2024 03:00</td>\n",
       "      <td>21.1</td>\n",
       "    </tr>\n",
       "    <tr>\n",
       "      <th>3</th>\n",
       "      <td>01.12.2024 04:00</td>\n",
       "      <td>20.3</td>\n",
       "    </tr>\n",
       "    <tr>\n",
       "      <th>4</th>\n",
       "      <td>01.12.2024 05:00</td>\n",
       "      <td>20.0</td>\n",
       "    </tr>\n",
       "  </tbody>\n",
       "</table>\n",
       "</div>"
      ]
     },
     "execution_count": 60,
     "metadata": {},
     "output_type": "execute_result"
    }
   ],
   "execution_count": 60
  },
  {
   "metadata": {
    "ExecuteTime": {
     "end_time": "2025-09-03T13:05:44.274798Z",
     "start_time": "2025-09-03T13:05:44.265233Z"
    }
   },
   "cell_type": "code",
   "source": "pm10_hourly.head()",
   "id": "3393068228b1a882",
   "outputs": [
    {
     "data": {
      "text/plain": [
       "          Date/time  Härkingen-A1\n",
       "0  01.12.2024 01:00          15.5\n",
       "1  01.12.2024 02:00          16.4\n",
       "2  01.12.2024 03:00          16.6\n",
       "3  01.12.2024 04:00          15.4\n",
       "4  01.12.2024 05:00          15.6"
      ],
      "text/html": [
       "<div>\n",
       "<style scoped>\n",
       "    .dataframe tbody tr th:only-of-type {\n",
       "        vertical-align: middle;\n",
       "    }\n",
       "\n",
       "    .dataframe tbody tr th {\n",
       "        vertical-align: top;\n",
       "    }\n",
       "\n",
       "    .dataframe thead th {\n",
       "        text-align: right;\n",
       "    }\n",
       "</style>\n",
       "<table border=\"1\" class=\"dataframe\">\n",
       "  <thead>\n",
       "    <tr style=\"text-align: right;\">\n",
       "      <th></th>\n",
       "      <th>Date/time</th>\n",
       "      <th>Härkingen-A1</th>\n",
       "    </tr>\n",
       "  </thead>\n",
       "  <tbody>\n",
       "    <tr>\n",
       "      <th>0</th>\n",
       "      <td>01.12.2024 01:00</td>\n",
       "      <td>15.5</td>\n",
       "    </tr>\n",
       "    <tr>\n",
       "      <th>1</th>\n",
       "      <td>01.12.2024 02:00</td>\n",
       "      <td>16.4</td>\n",
       "    </tr>\n",
       "    <tr>\n",
       "      <th>2</th>\n",
       "      <td>01.12.2024 03:00</td>\n",
       "      <td>16.6</td>\n",
       "    </tr>\n",
       "    <tr>\n",
       "      <th>3</th>\n",
       "      <td>01.12.2024 04:00</td>\n",
       "      <td>15.4</td>\n",
       "    </tr>\n",
       "    <tr>\n",
       "      <th>4</th>\n",
       "      <td>01.12.2024 05:00</td>\n",
       "      <td>15.6</td>\n",
       "    </tr>\n",
       "  </tbody>\n",
       "</table>\n",
       "</div>"
      ]
     },
     "execution_count": 61,
     "metadata": {},
     "output_type": "execute_result"
    }
   ],
   "execution_count": 61
  },
  {
   "metadata": {
    "ExecuteTime": {
     "end_time": "2025-09-03T13:06:48.805191Z",
     "start_time": "2025-09-03T13:06:48.676051Z"
    }
   },
   "cell_type": "code",
   "source": [
    "plt.plot(nox_hourly[\"Härkingen-A1\"], label=\"NOx\")\n",
    "plt.plot(pm25_hourly[\"Härkingen-A1\"], label=\"PM2.5\")\n",
    "plt.plot(pm10_hourly[\"Härkingen-A1\"], label=\"PM10\")\n",
    "\n",
    "plt.title(\"Härkingen-A1 (Dec 2024 - hourly)\")\n",
    "plt.legend()\n",
    "plt.show()"
   ],
   "id": "248e8bec8facacd6",
   "outputs": [
    {
     "data": {
      "text/plain": [
       "<Figure size 640x480 with 1 Axes>"
      ],
      "image/png": "[encoded data removed]"
     },
     "metadata": {},
     "output_type": "display_data"
    }
   ],
   "execution_count": 63
  },
  {
   "metadata": {},
   "cell_type": "code",
   "outputs": [],
   "execution_count": null,
   "source": "",
   "id": "f81a8bf24ed8e9f1"
  },
  {
   "metadata": {},
   "cell_type": "markdown",
   "source": "## Car counter",
   "id": "453adb191362bcb"
  },
  {
   "metadata": {
    "ExecuteTime": {
     "end_time": "2025-09-03T13:48:10.054750Z",
     "start_time": "2025-09-03T13:48:07.880460Z"
    }
   },
   "cell_type": "code",
   "source": "cars = pd.read_excel(\"Data/Dezember_2024.xlsx\", sheet_name=\"Monatsmittel\")",
   "id": "43e8d0c3d45b85df",
   "outputs": [],
   "execution_count": 68
  },
  {
   "metadata": {
    "ExecuteTime": {
     "end_time": "2025-09-03T13:48:16.936978Z",
     "start_time": "2025-09-03T13:48:16.921977Z"
    }
   },
   "cell_type": "code",
   "source": "cars.head()",
   "id": "2d6c4a66373121a3",
   "outputs": [
    {
     "data": {
      "text/plain": [
       "  Unnamed: 0 Unnamed: 1  \\\n",
       "0        NaN        NaN   \n",
       "1        NaN      Jahr:   \n",
       "2        NaN     Monat:   \n",
       "3        NaN        NaN   \n",
       "4        NaN        NaN   \n",
       "\n",
       "  Schweizerische Eidgenossenschaft\\nConfédération suisse\\nConfederazione Svizzera\\nConfederaziun svizra  \\\n",
       "0                                                NaN                                                      \n",
       "1                                               2024                                                      \n",
       "2                                                 12                                                      \n",
       "3                                           Dezember                                                      \n",
       "4                                                NaN                                                      \n",
       "\n",
       "  Unnamed: 3 Unnamed: 4  \\\n",
       "0        NaN        NaN   \n",
       "1        NaN        NaN   \n",
       "2        NaN        NaN   \n",
       "3        NaN        NaN   \n",
       "4        NaN        NaN   \n",
       "\n",
       "  Schweizerische automatische Strassenverkehrszählung (SASVZ)  \\\n",
       "0                                   Fahrzeugklasse:             \n",
       "1                                      Strassennetz:            \n",
       "2                                  Verkehrsrichtung:            \n",
       "3             Monatsmittel des 24-stündigen Verkehrs            \n",
       "4                               Normalwerkt.,\\nDi-Do            \n",
       "\n",
       "                        Unnamed: 6 Unnamed: 7 Unnamed: 8  \\\n",
       "0         Volumen - Motorfahrzeuge        NaN        NaN   \n",
       "1  National- und Hauptstrassennetz        NaN        NaN   \n",
       "2                     2 Richtungen        NaN        NaN   \n",
       "3                              NaN        NaN        NaN   \n",
       "4                 Werktage,\\nMo-Fr   Samstage   Sonntage   \n",
       "\n",
       "                                          Unnamed: 9  Unnamed: 10  \\\n",
       "0  Quelle: Bundesamt für Strassen / Verkehrsmonit...          NaN   \n",
       "1                                                NaN          NaN   \n",
       "2                                                NaN          NaN   \n",
       "3                                                NaN          NaN   \n",
       "4                             Alle Wochentage\\nMo-So          NaN   \n",
       "\n",
       "              Unnamed: 11 Unnamed: 12  Unnamed: 13             Unnamed: 14  \\\n",
       "0                     NaN         NaN          NaN                     NaN   \n",
       "1                     NaN         NaN          NaN                     NaN   \n",
       "2                     NaN         NaN          NaN                     NaN   \n",
       "3  Maximaler Tagesverkehr         NaN          NaN  Maximaler Tagesverkehr   \n",
       "4         Werktage, Mo-Fr         NaN          NaN                Samstage   \n",
       "\n",
       "  Unnamed: 15  \n",
       "0         NaN  \n",
       "1         NaN  \n",
       "2     © ASTRA  \n",
       "3         NaN  \n",
       "4         NaN  "
      ],
      "text/html": [
       "<div>\n",
       "<style scoped>\n",
       "    .dataframe tbody tr th:only-of-type {\n",
       "        vertical-align: middle;\n",
       "    }\n",
       "\n",
       "    .dataframe tbody tr th {\n",
       "        vertical-align: top;\n",
       "    }\n",
       "\n",
       "    .dataframe thead th {\n",
       "        text-align: right;\n",
       "    }\n",
       "</style>\n",
       "<table border=\"1\" class=\"dataframe\">\n",
       "  <thead>\n",
       "    <tr style=\"text-align: right;\">\n",
       "      <th></th>\n",
       "      <th>Unnamed: 0</th>\n",
       "      <th>Unnamed: 1</th>\n",
       "      <th>Schweizerische Eidgenossenschaft\\nConfédération suisse\\nConfederazione Svizzera\\nConfederaziun svizra</th>\n",
       "      <th>Unnamed: 3</th>\n",
       "      <th>Unnamed: 4</th>\n",
       "      <th>Schweizerische automatische Strassenverkehrszählung (SASVZ)</th>\n",
       "      <th>Unnamed: 6</th>\n",
       "      <th>Unnamed: 7</th>\n",
       "      <th>Unnamed: 8</th>\n",
       "      <th>Unnamed: 9</th>\n",
       "      <th>Unnamed: 10</th>\n",
       "      <th>Unnamed: 11</th>\n",
       "      <th>Unnamed: 12</th>\n",
       "      <th>Unnamed: 13</th>\n",
       "      <th>Unnamed: 14</th>\n",
       "      <th>Unnamed: 15</th>\n",
       "    </tr>\n",
       "  </thead>\n",
       "  <tbody>\n",
       "    <tr>\n",
       "      <th>0</th>\n",
       "      <td>NaN</td>\n",
       "      <td>NaN</td>\n",
       "      <td>NaN</td>\n",
       "      <td>NaN</td>\n",
       "      <td>NaN</td>\n",
       "      <td>Fahrzeugklasse:</td>\n",
       "      <td>Volumen - Motorfahrzeuge</td>\n",
       "      <td>NaN</td>\n",
       "      <td>NaN</td>\n",
       "      <td>Quelle: Bundesamt für Strassen / Verkehrsmonit...</td>\n",
       "      <td>NaN</td>\n",
       "      <td>NaN</td>\n",
       "      <td>NaN</td>\n",
       "      <td>NaN</td>\n",
       "      <td>NaN</td>\n",
       "      <td>NaN</td>\n",
       "    </tr>\n",
       "    <tr>\n",
       "      <th>1</th>\n",
       "      <td>NaN</td>\n",
       "      <td>Jahr:</td>\n",
       "      <td>2024</td>\n",
       "      <td>NaN</td>\n",
       "      <td>NaN</td>\n",
       "      <td>Strassennetz:</td>\n",
       "      <td>National- und Hauptstrassennetz</td>\n",
       "      <td>NaN</td>\n",
       "      <td>NaN</td>\n",
       "      <td>NaN</td>\n",
       "      <td>NaN</td>\n",
       "      <td>NaN</td>\n",
       "      <td>NaN</td>\n",
       "      <td>NaN</td>\n",
       "      <td>NaN</td>\n",
       "      <td>NaN</td>\n",
       "    </tr>\n",
       "    <tr>\n",
       "      <th>2</th>\n",
       "      <td>NaN</td>\n",
       "      <td>Monat:</td>\n",
       "      <td>12</td>\n",
       "      <td>NaN</td>\n",
       "      <td>NaN</td>\n",
       "      <td>Verkehrsrichtung:</td>\n",
       "      <td>2 Richtungen</td>\n",
       "      <td>NaN</td>\n",
       "      <td>NaN</td>\n",
       "      <td>NaN</td>\n",
       "      <td>NaN</td>\n",
       "      <td>NaN</td>\n",
       "      <td>NaN</td>\n",
       "      <td>NaN</td>\n",
       "      <td>NaN</td>\n",
       "      <td>© ASTRA</td>\n",
       "    </tr>\n",
       "    <tr>\n",
       "      <th>3</th>\n",
       "      <td>NaN</td>\n",
       "      <td>NaN</td>\n",
       "      <td>Dezember</td>\n",
       "      <td>NaN</td>\n",
       "      <td>NaN</td>\n",
       "      <td>Monatsmittel des 24-stündigen Verkehrs</td>\n",
       "      <td>NaN</td>\n",
       "      <td>NaN</td>\n",
       "      <td>NaN</td>\n",
       "      <td>NaN</td>\n",
       "      <td>NaN</td>\n",
       "      <td>Maximaler Tagesverkehr</td>\n",
       "      <td>NaN</td>\n",
       "      <td>NaN</td>\n",
       "      <td>Maximaler Tagesverkehr</td>\n",
       "      <td>NaN</td>\n",
       "    </tr>\n",
       "    <tr>\n",
       "      <th>4</th>\n",
       "      <td>NaN</td>\n",
       "      <td>NaN</td>\n",
       "      <td>NaN</td>\n",
       "      <td>NaN</td>\n",
       "      <td>NaN</td>\n",
       "      <td>Normalwerkt.,\\nDi-Do</td>\n",
       "      <td>Werktage,\\nMo-Fr</td>\n",
       "      <td>Samstage</td>\n",
       "      <td>Sonntage</td>\n",
       "      <td>Alle Wochentage\\nMo-So</td>\n",
       "      <td>NaN</td>\n",
       "      <td>Werktage, Mo-Fr</td>\n",
       "      <td>NaN</td>\n",
       "      <td>NaN</td>\n",
       "      <td>Samstage</td>\n",
       "      <td>NaN</td>\n",
       "    </tr>\n",
       "  </tbody>\n",
       "</table>\n",
       "</div>"
      ]
     },
     "execution_count": 69,
     "metadata": {},
     "output_type": "execute_result"
    }
   ],
   "execution_count": 69
  },
  {
   "metadata": {},
   "cell_type": "code",
   "outputs": [],
   "execution_count": null,
   "source": "",
   "id": "864f447ee2e9a576"
  }
 ],
 "metadata": {
  "kernelspec": {
   "display_name": "Python 3",
   "language": "python",
   "name": "python3"
  },
  "language_info": {
   "codemirror_mode": {
    "name": "ipython",
    "version": 2
   },
   "file_extension": ".py",
   "mimetype": "text/x-python",
   "name": "python",
   "nbconvert_exporter": "python",
   "pygments_lexer": "ipython2",
   "version": "2.7.6"
  }
 },
 "nbformat": 4,
 "nbformat_minor": 5
}
